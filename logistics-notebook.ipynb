{
 "cells": [
  {
   "cell_type": "markdown",
   "metadata": {},
   "source": [
    "## Shopee Code League 2020\n",
    "<h3>Logistics Challenge</h3>\n",
    "<b>Team: DragonSnake</b>"
   ]
  },
  {
   "cell_type": "code",
   "execution_count": 1,
   "metadata": {},
   "outputs": [],
   "source": [
    "import numpy as np\n",
    "import pandas as pd\n",
    "import matplotlib.pyplot as plt\n",
    "import seaborn as sns\n",
    "from datetime import datetime, timedelta \n",
    "import re"
   ]
  },
  {
   "cell_type": "code",
   "execution_count": 2,
   "metadata": {},
   "outputs": [],
   "source": [
    "%%capture\n",
    "from tqdm import tqdm\n",
    "tqdm().pandas()"
   ]
  },
  {
   "cell_type": "markdown",
   "metadata": {},
   "source": [
    "<h1>1. Explore Dataset</h1>"
   ]
  },
  {
   "cell_type": "code",
   "execution_count": 3,
   "metadata": {},
   "outputs": [],
   "source": [
    "df = pd.read_csv(\"data/delivery_orders_march.csv\")"
   ]
  },
  {
   "cell_type": "code",
   "execution_count": 4,
   "metadata": {},
   "outputs": [
    {
     "data": {
      "text/html": [
       "<div>\n",
       "<style scoped>\n",
       "    .dataframe tbody tr th:only-of-type {\n",
       "        vertical-align: middle;\n",
       "    }\n",
       "\n",
       "    .dataframe tbody tr th {\n",
       "        vertical-align: top;\n",
       "    }\n",
       "\n",
       "    .dataframe thead th {\n",
       "        text-align: right;\n",
       "    }\n",
       "</style>\n",
       "<table border=\"1\" class=\"dataframe\">\n",
       "  <thead>\n",
       "    <tr style=\"text-align: right;\">\n",
       "      <th></th>\n",
       "      <th>orderid</th>\n",
       "      <th>pick</th>\n",
       "      <th>1st_deliver_attempt</th>\n",
       "      <th>2nd_deliver_attempt</th>\n",
       "      <th>buyeraddress</th>\n",
       "      <th>selleraddress</th>\n",
       "    </tr>\n",
       "  </thead>\n",
       "  <tbody>\n",
       "    <tr>\n",
       "      <th>0</th>\n",
       "      <td>2215676524</td>\n",
       "      <td>1583138397</td>\n",
       "      <td>1.583385e+09</td>\n",
       "      <td>NaN</td>\n",
       "      <td>Baging ldl BUENAVISTA,PATAG.CAGAYAN Buagsong,c...</td>\n",
       "      <td>Pantranco vill. 417 Warehouse# katipunan 532 (...</td>\n",
       "    </tr>\n",
       "    <tr>\n",
       "      <th>1</th>\n",
       "      <td>2219624609</td>\n",
       "      <td>1583309968</td>\n",
       "      <td>1.583463e+09</td>\n",
       "      <td>1.583799e+09</td>\n",
       "      <td>coloma's quzom CASANAS Site1 Masiyan 533A Stol...</td>\n",
       "      <td>BLDG 210A Moras C42B 2B16,168 church) Complex ...</td>\n",
       "    </tr>\n",
       "    <tr>\n",
       "      <th>2</th>\n",
       "      <td>2220979489</td>\n",
       "      <td>1583306434</td>\n",
       "      <td>1.583460e+09</td>\n",
       "      <td>NaN</td>\n",
       "      <td>21-O LumangDaan,Capitangan,Abucay,Bataan .Bign...</td>\n",
       "      <td>#66 150-C, DRIVE, Milagros Joe socorro Metro M...</td>\n",
       "    </tr>\n",
       "    <tr>\n",
       "      <th>3</th>\n",
       "      <td>2221066352</td>\n",
       "      <td>1583419016</td>\n",
       "      <td>1.583556e+09</td>\n",
       "      <td>NaN</td>\n",
       "      <td>616Espiritu MARTINVILLE,MANUYO #5paraiso kengi...</td>\n",
       "      <td>999maII 201,26 Villaruel Barretto gen.t number...</td>\n",
       "    </tr>\n",
       "    <tr>\n",
       "      <th>4</th>\n",
       "      <td>2222478803</td>\n",
       "      <td>1583318305</td>\n",
       "      <td>1.583480e+09</td>\n",
       "      <td>NaN</td>\n",
       "      <td>L042 Summerbreezee1 L2(Balanay analyn Lot760 C...</td>\n",
       "      <td>G66MANILA Hiyas Fitness MAYSILO magdiwang Lt.4...</td>\n",
       "    </tr>\n",
       "    <tr>\n",
       "      <th>...</th>\n",
       "      <td>...</td>\n",
       "      <td>...</td>\n",
       "      <td>...</td>\n",
       "      <td>...</td>\n",
       "      <td>...</td>\n",
       "      <td>...</td>\n",
       "    </tr>\n",
       "    <tr>\n",
       "      <th>3176308</th>\n",
       "      <td>31504087640510</td>\n",
       "      <td>1585821728</td>\n",
       "      <td>1.585978e+09</td>\n",
       "      <td>NaN</td>\n",
       "      <td>mayapis. edeliza JC274 5542 brgy.Dita, Metro M...</td>\n",
       "      <td>Intimate St) compound. Sekiat 2B8 98-B Mel far...</td>\n",
       "    </tr>\n",
       "    <tr>\n",
       "      <th>3176309</th>\n",
       "      <td>31504147352227</td>\n",
       "      <td>1585895011</td>\n",
       "      <td>1.586179e+09</td>\n",
       "      <td>1.586232e+09</td>\n",
       "      <td>Superdome PORKY K307 Libertad, PCGCC sub.bagui...</td>\n",
       "      <td>13th 3616 Pilipinas, :1v26 1f-5 (Village) bl10...</td>\n",
       "    </tr>\n",
       "    <tr>\n",
       "      <th>3176310</th>\n",
       "      <td>31504462290482</td>\n",
       "      <td>1585826951</td>\n",
       "      <td>1.585965e+09</td>\n",
       "      <td>NaN</td>\n",
       "      <td>Galay's 1republic 333-18 Diliman 74d Malbay fe...</td>\n",
       "      <td>Lane, 379B 1739A Ivc AFPFC Cainta, Waterpark, ...</td>\n",
       "    </tr>\n",
       "    <tr>\n",
       "      <th>3176311</th>\n",
       "      <td>31504851495943</td>\n",
       "      <td>1585891194</td>\n",
       "      <td>1.586230e+09</td>\n",
       "      <td>NaN</td>\n",
       "      <td>#4560, 80south biloca vi!!age KM21, MANRESA, ,...</td>\n",
       "      <td>lrt-2 Consolacion 224-A Paradise 6D 36st champ...</td>\n",
       "    </tr>\n",
       "    <tr>\n",
       "      <th>3176312</th>\n",
       "      <td>31505199116340</td>\n",
       "      <td>1585823923</td>\n",
       "      <td>1.586153e+09</td>\n",
       "      <td>1.586231e+09</td>\n",
       "      <td>b4l13 TOLDA 792-A-5-A east...near CARRASCO Ang...</td>\n",
       "      <td>(Jeepney Kaligayan VANVAN Salud ASA Lauan A-55...</td>\n",
       "    </tr>\n",
       "  </tbody>\n",
       "</table>\n",
       "<p>3176313 rows × 6 columns</p>\n",
       "</div>"
      ],
      "text/plain": [
       "                orderid        pick  1st_deliver_attempt  2nd_deliver_attempt  \\\n",
       "0            2215676524  1583138397         1.583385e+09                  NaN   \n",
       "1            2219624609  1583309968         1.583463e+09         1.583799e+09   \n",
       "2            2220979489  1583306434         1.583460e+09                  NaN   \n",
       "3            2221066352  1583419016         1.583556e+09                  NaN   \n",
       "4            2222478803  1583318305         1.583480e+09                  NaN   \n",
       "...                 ...         ...                  ...                  ...   \n",
       "3176308  31504087640510  1585821728         1.585978e+09                  NaN   \n",
       "3176309  31504147352227  1585895011         1.586179e+09         1.586232e+09   \n",
       "3176310  31504462290482  1585826951         1.585965e+09                  NaN   \n",
       "3176311  31504851495943  1585891194         1.586230e+09                  NaN   \n",
       "3176312  31505199116340  1585823923         1.586153e+09         1.586231e+09   \n",
       "\n",
       "                                              buyeraddress  \\\n",
       "0        Baging ldl BUENAVISTA,PATAG.CAGAYAN Buagsong,c...   \n",
       "1        coloma's quzom CASANAS Site1 Masiyan 533A Stol...   \n",
       "2        21-O LumangDaan,Capitangan,Abucay,Bataan .Bign...   \n",
       "3        616Espiritu MARTINVILLE,MANUYO #5paraiso kengi...   \n",
       "4        L042 Summerbreezee1 L2(Balanay analyn Lot760 C...   \n",
       "...                                                    ...   \n",
       "3176308  mayapis. edeliza JC274 5542 brgy.Dita, Metro M...   \n",
       "3176309  Superdome PORKY K307 Libertad, PCGCC sub.bagui...   \n",
       "3176310  Galay's 1republic 333-18 Diliman 74d Malbay fe...   \n",
       "3176311  #4560, 80south biloca vi!!age KM21, MANRESA, ,...   \n",
       "3176312  b4l13 TOLDA 792-A-5-A east...near CARRASCO Ang...   \n",
       "\n",
       "                                             selleraddress  \n",
       "0        Pantranco vill. 417 Warehouse# katipunan 532 (...  \n",
       "1        BLDG 210A Moras C42B 2B16,168 church) Complex ...  \n",
       "2        #66 150-C, DRIVE, Milagros Joe socorro Metro M...  \n",
       "3        999maII 201,26 Villaruel Barretto gen.t number...  \n",
       "4        G66MANILA Hiyas Fitness MAYSILO magdiwang Lt.4...  \n",
       "...                                                    ...  \n",
       "3176308  Intimate St) compound. Sekiat 2B8 98-B Mel far...  \n",
       "3176309  13th 3616 Pilipinas, :1v26 1f-5 (Village) bl10...  \n",
       "3176310  Lane, 379B 1739A Ivc AFPFC Cainta, Waterpark, ...  \n",
       "3176311  lrt-2 Consolacion 224-A Paradise 6D 36st champ...  \n",
       "3176312  (Jeepney Kaligayan VANVAN Salud ASA Lauan A-55...  \n",
       "\n",
       "[3176313 rows x 6 columns]"
      ]
     },
     "execution_count": 4,
     "metadata": {},
     "output_type": "execute_result"
    }
   ],
   "source": [
    "df"
   ]
  },
  {
   "cell_type": "markdown",
   "metadata": {},
   "source": [
    "The dataset contains over 3 million records of Shopee logistics for each order.\n",
    "<p>To be specific, the dataset contains 6 columns: [orderid, pick (epoch time in GMT+8), 1st delivery_attempt (epoch time in GMT+8), 2nd delivery_attempt (epoch GMT+8), buyer's address and seller's address].</p>"
   ]
  },
  {
   "cell_type": "code",
   "execution_count": 5,
   "metadata": {},
   "outputs": [
    {
     "name": "stdout",
     "output_type": "stream",
     "text": [
      "<class 'pandas.core.frame.DataFrame'>\n",
      "RangeIndex: 3176313 entries, 0 to 3176312\n",
      "Data columns (total 6 columns):\n",
      " #   Column               Dtype  \n",
      "---  ------               -----  \n",
      " 0   orderid              int64  \n",
      " 1   pick                 int64  \n",
      " 2   1st_deliver_attempt  float64\n",
      " 3   2nd_deliver_attempt  float64\n",
      " 4   buyeraddress         object \n",
      " 5   selleraddress        object \n",
      "dtypes: float64(2), int64(2), object(2)\n",
      "memory usage: 145.4+ MB\n"
     ]
    }
   ],
   "source": [
    "df.info()"
   ]
  },
  {
   "cell_type": "markdown",
   "metadata": {},
   "source": [
    "<b>Column Data Types</b>\n",
    "<p>Take a closer look in dataframe data types, we can see that the data type of two delivery attempts are float, thus, we need to convert it into date format for later time calculation with SLA</p>"
   ]
  },
  {
   "cell_type": "code",
   "execution_count": 6,
   "metadata": {},
   "outputs": [
    {
     "data": {
      "text/plain": [
       "orderid                      0\n",
       "pick                         0\n",
       "1st_deliver_attempt          0\n",
       "2nd_deliver_attempt    1819311\n",
       "buyeraddress                 0\n",
       "selleraddress                0\n",
       "dtype: int64"
      ]
     },
     "execution_count": 6,
     "metadata": {},
     "output_type": "execute_result"
    }
   ],
   "source": [
    "df.isna().sum()"
   ]
  },
  {
   "cell_type": "markdown",
   "metadata": {},
   "source": [
    "As indicated above, only the 2nd_deliver_attempt has missing values of over 1.8 million records."
   ]
  },
  {
   "cell_type": "markdown",
   "metadata": {},
   "source": [
    "<a name='rules'><h2>Rules Defined by Shopee</h2></a>\n",
    "<h3>Basic Concepts</h3>\n",
    "<li>Each orderid represents a distinct transaction on Shopee.</li>\n",
    "<li>SLA can vary across each route (A route is defined as Seller’s Location to Buyer’s Location) - Refer to SLA_matrix.xlsx</li>\n",
    "<li>Pick Up Time is defined as the time when the 3PL picks up the parcel and begins to process for delivery. It marks the start of the SLA calculation.</li>\n",
    "<li>Delivery Attempt is defined as an attempt made by the 3PL to deliver the parcel to the customer. It may or may not be delivered successfully. In the case when it is unsuccessful, a 2nd attempt will be made. A parcel that has no 2nd attempt is deemed to have been successfully delivered on the 1st attempt.</li>\n",
    "<li>All time formats are stored in epoch time based on Local Time (GMT+8).</li>\n",
    "<li>Only consider the date when determining if the order is late; ignore the time. <b>Example:</b> df['normalised_date'] = df['dates'].dt.normalize()\n",
    "</li>\n",
    "<li>Working Days are defined as Mon - Sat, Excluding Public Holidays.</li>\n",
    "<li>SLA calculation begins from the next day after pickup (Day 0 = Day of Pickup; Day 1 = Next Day after Pickup)</li>\n",
    "<li>2nd Attempt must be no later than 3 working days after the 1st Attempt, regardless of origin to destination route (Day 0 = Day of 1st Attempt; Day 1 = Next Day after 1st Attempt).</li>\n",
    "<br/>\n",
    "<p>Only consider the date when determining if the order is late; ignore the time.</p>\n",
    "\n",
    "<p>Assume the following <a name='holidays'>Public Holidays</a>:</p>\n",
    "\n",
    "<li>2020-03-08 (Sunday);</li>\n",
    "<li>2020-03-25 (Wednesday);</li>\n",
    "<li>2020-03-30 (Monday);</li>\n",
    "<li>2020-03-31 (Tuesday)</li>\n",
    "\n",
    "<a name='sla'><p><h3>SLA Matrix</h3></p></a>\n",
    "<img src=https://i.imgur.com/Kxj9sd9.png/>"
   ]
  },
  {
   "cell_type": "markdown",
   "metadata": {},
   "source": [
    "## 2. Wrangle Data"
   ]
  },
  {
   "cell_type": "markdown",
   "metadata": {},
   "source": [
    "By default, in order to convert precisely to GMT+8, we need to add 8 hours in addition since pd.to_datetime() function automatically converts to GMT+0"
   ]
  },
  {
   "cell_type": "code",
   "execution_count": 7,
   "metadata": {},
   "outputs": [
    {
     "name": "stdout",
     "output_type": "stream",
     "text": [
      "Wall time: 3.92 s\n"
     ]
    }
   ],
   "source": [
    "%%time\n",
    "# Add 8 hours for pick-up time\n",
    "df['pick'] = df['pick'].apply(lambda x: x + 60*60*8)\n",
    "\n",
    "# Add 8 hours for 1st attempt\n",
    "df['1st_deliver_attempt'] = df['1st_deliver_attempt'].apply(lambda x: x + 60*60*8)\n",
    "\n",
    "# Add 8 hours for 2nd attempt\n",
    "df['2nd_deliver_attempt'] = df['2nd_deliver_attempt'].apply(lambda x: x + 60*60*8 if pd.notnull(x) else np.nan)"
   ]
  },
  {
   "cell_type": "markdown",
   "metadata": {},
   "source": [
    "After successfully converting to GMT+8, let's convert it into calculate-able format (datetime)"
   ]
  },
  {
   "cell_type": "code",
   "execution_count": 8,
   "metadata": {},
   "outputs": [
    {
     "name": "stdout",
     "output_type": "stream",
     "text": [
      "Wall time: 25.8 s\n"
     ]
    }
   ],
   "source": [
    "%%time\n",
    "# Convert pick-up time to datetime format\n",
    "df['pick'] = pd.to_datetime(df['pick'], unit='s')\n",
    "\n",
    "# Convert 1st deliver attempt to datetime format\n",
    "df['1st_deliver_attempt'] = pd.to_datetime(df['1st_deliver_attempt'], unit='s')\n",
    "\n",
    "# Conver 2nd deliver attempt to datetime format\n",
    "df['2nd_deliver_attempt'] = pd.to_datetime(df['2nd_deliver_attempt'], unit='s')"
   ]
  },
  {
   "cell_type": "code",
   "execution_count": 9,
   "metadata": {},
   "outputs": [
    {
     "data": {
      "text/html": [
       "<div>\n",
       "<style scoped>\n",
       "    .dataframe tbody tr th:only-of-type {\n",
       "        vertical-align: middle;\n",
       "    }\n",
       "\n",
       "    .dataframe tbody tr th {\n",
       "        vertical-align: top;\n",
       "    }\n",
       "\n",
       "    .dataframe thead th {\n",
       "        text-align: right;\n",
       "    }\n",
       "</style>\n",
       "<table border=\"1\" class=\"dataframe\">\n",
       "  <thead>\n",
       "    <tr style=\"text-align: right;\">\n",
       "      <th></th>\n",
       "      <th>orderid</th>\n",
       "      <th>pick</th>\n",
       "      <th>1st_deliver_attempt</th>\n",
       "      <th>2nd_deliver_attempt</th>\n",
       "      <th>buyeraddress</th>\n",
       "      <th>selleraddress</th>\n",
       "    </tr>\n",
       "  </thead>\n",
       "  <tbody>\n",
       "    <tr>\n",
       "      <th>0</th>\n",
       "      <td>2215676524</td>\n",
       "      <td>2020-03-02 16:39:57</td>\n",
       "      <td>2020-03-05 13:09:18</td>\n",
       "      <td>NaT</td>\n",
       "      <td>Baging ldl BUENAVISTA,PATAG.CAGAYAN Buagsong,c...</td>\n",
       "      <td>Pantranco vill. 417 Warehouse# katipunan 532 (...</td>\n",
       "    </tr>\n",
       "    <tr>\n",
       "      <th>1</th>\n",
       "      <td>2219624609</td>\n",
       "      <td>2020-03-04 16:19:28</td>\n",
       "      <td>2020-03-06 10:53:56</td>\n",
       "      <td>2020-03-10 08:02:56</td>\n",
       "      <td>coloma's quzom CASANAS Site1 Masiyan 533A Stol...</td>\n",
       "      <td>BLDG 210A Moras C42B 2B16,168 church) Complex ...</td>\n",
       "    </tr>\n",
       "    <tr>\n",
       "      <th>2</th>\n",
       "      <td>2220979489</td>\n",
       "      <td>2020-03-04 15:20:34</td>\n",
       "      <td>2020-03-06 09:56:19</td>\n",
       "      <td>NaT</td>\n",
       "      <td>21-O LumangDaan,Capitangan,Abucay,Bataan .Bign...</td>\n",
       "      <td>#66 150-C, DRIVE, Milagros Joe socorro Metro M...</td>\n",
       "    </tr>\n",
       "    <tr>\n",
       "      <th>3</th>\n",
       "      <td>2221066352</td>\n",
       "      <td>2020-03-05 22:36:56</td>\n",
       "      <td>2020-03-07 12:45:41</td>\n",
       "      <td>NaT</td>\n",
       "      <td>616Espiritu MARTINVILLE,MANUYO #5paraiso kengi...</td>\n",
       "      <td>999maII 201,26 Villaruel Barretto gen.t number...</td>\n",
       "    </tr>\n",
       "    <tr>\n",
       "      <th>4</th>\n",
       "      <td>2222478803</td>\n",
       "      <td>2020-03-04 18:38:25</td>\n",
       "      <td>2020-03-06 15:41:40</td>\n",
       "      <td>NaT</td>\n",
       "      <td>L042 Summerbreezee1 L2(Balanay analyn Lot760 C...</td>\n",
       "      <td>G66MANILA Hiyas Fitness MAYSILO magdiwang Lt.4...</td>\n",
       "    </tr>\n",
       "  </tbody>\n",
       "</table>\n",
       "</div>"
      ],
      "text/plain": [
       "      orderid                pick 1st_deliver_attempt 2nd_deliver_attempt  \\\n",
       "0  2215676524 2020-03-02 16:39:57 2020-03-05 13:09:18                 NaT   \n",
       "1  2219624609 2020-03-04 16:19:28 2020-03-06 10:53:56 2020-03-10 08:02:56   \n",
       "2  2220979489 2020-03-04 15:20:34 2020-03-06 09:56:19                 NaT   \n",
       "3  2221066352 2020-03-05 22:36:56 2020-03-07 12:45:41                 NaT   \n",
       "4  2222478803 2020-03-04 18:38:25 2020-03-06 15:41:40                 NaT   \n",
       "\n",
       "                                        buyeraddress  \\\n",
       "0  Baging ldl BUENAVISTA,PATAG.CAGAYAN Buagsong,c...   \n",
       "1  coloma's quzom CASANAS Site1 Masiyan 533A Stol...   \n",
       "2  21-O LumangDaan,Capitangan,Abucay,Bataan .Bign...   \n",
       "3  616Espiritu MARTINVILLE,MANUYO #5paraiso kengi...   \n",
       "4  L042 Summerbreezee1 L2(Balanay analyn Lot760 C...   \n",
       "\n",
       "                                       selleraddress  \n",
       "0  Pantranco vill. 417 Warehouse# katipunan 532 (...  \n",
       "1  BLDG 210A Moras C42B 2B16,168 church) Complex ...  \n",
       "2  #66 150-C, DRIVE, Milagros Joe socorro Metro M...  \n",
       "3  999maII 201,26 Villaruel Barretto gen.t number...  \n",
       "4  G66MANILA Hiyas Fitness MAYSILO magdiwang Lt.4...  "
      ]
     },
     "execution_count": 9,
     "metadata": {},
     "output_type": "execute_result"
    }
   ],
   "source": [
    "df.head()"
   ]
  },
  {
   "cell_type": "markdown",
   "metadata": {},
   "source": [
    "After the conversion, all the time (in epoch) has been converted successfully into GMT+8 timezone. However, as the <a href=#rules> rules </a> defined by Shopee, only the date is taken into consideration for deciding whether it is a late deliver or not. As for that reason, let's just simplify things here by normalize all the times to midnight (00:00 AM)."
   ]
  },
  {
   "cell_type": "code",
   "execution_count": 10,
   "metadata": {},
   "outputs": [
    {
     "name": "stdout",
     "output_type": "stream",
     "text": [
      "Wall time: 231 ms\n"
     ]
    }
   ],
   "source": [
    "%%time\n",
    "# Normalize pick-up date\n",
    "df['pick'] = df['pick'].dt.normalize()\n",
    "\n",
    "# Normalize 1st deliver attempt date\n",
    "df['1st_deliver_attempt'] = df['1st_deliver_attempt'].dt.normalize()\n",
    "\n",
    "# Normalize 2nd deliver attempt date\n",
    "df['2nd_deliver_attempt'] = df['2nd_deliver_attempt'].dt.normalize()"
   ]
  },
  {
   "cell_type": "code",
   "execution_count": 11,
   "metadata": {},
   "outputs": [
    {
     "data": {
      "text/plain": [
       "orderid                                                       2215676524\n",
       "pick                                                 2020-03-02 00:00:00\n",
       "1st_deliver_attempt                                  2020-03-05 00:00:00\n",
       "2nd_deliver_attempt                                                  NaT\n",
       "buyeraddress           Baging ldl BUENAVISTA,PATAG.CAGAYAN Buagsong,c...\n",
       "selleraddress          Pantranco vill. 417 Warehouse# katipunan 532 (...\n",
       "Name: 0, dtype: object"
      ]
     },
     "execution_count": 11,
     "metadata": {},
     "output_type": "execute_result"
    }
   ],
   "source": [
    "df.iloc[0]"
   ]
  },
  {
   "cell_type": "markdown",
   "metadata": {},
   "source": [
    "After conversion, we have managed to removed the details of time from the dataset which leaves only time at the start of the date (00:00 AM)."
   ]
  },
  {
   "cell_type": "markdown",
   "metadata": {},
   "source": [
    "Let's define <a href=#holidays>public holidays</a> which are mentioned by Shopee as we need to take those into accounts while calculating the data."
   ]
  },
  {
   "cell_type": "code",
   "execution_count": 12,
   "metadata": {},
   "outputs": [],
   "source": [
    "# Declare list of public holidays in datetime format\n",
    "holidays = [pd.Timestamp(2020, 8, 3), pd.Timestamp(2020, 3, 25), pd.Timestamp(2020, 3, 30), pd.Timestamp(2020, 3, 31)]\n",
    "\n",
    "# Declare day off (sunday):\n",
    "sunday = 6"
   ]
  },
  {
   "cell_type": "markdown",
   "metadata": {},
   "source": [
    "<h3>Create a <a href=#sla>SLA Matrix</a></h3>"
   ]
  },
  {
   "cell_type": "code",
   "execution_count": 13,
   "metadata": {},
   "outputs": [],
   "source": [
    "sla_matrix = np.array([\n",
    "                      [3, 5, 7, 7], # Metro sla_matrix[0][]\n",
    "                      [5, 5, 7, 7], # Luzon sla_matrix[1][]\n",
    "                      [7, 7, 7, 7], # Visayas sla_matrix[2][]\n",
    "                      [7, 7, 7, 7]  # Mindanao sla_matrix[3][]\n",
    "                    ])"
   ]
  },
  {
   "cell_type": "markdown",
   "metadata": {},
   "source": [
    "<h3>Process Addresses</h3>"
   ]
  },
  {
   "cell_type": "code",
   "execution_count": 14,
   "metadata": {},
   "outputs": [
    {
     "name": "stdout",
     "output_type": "stream",
     "text": [
      "Wall time: 3.05 s\n"
     ]
    }
   ],
   "source": [
    "%%time\n",
    "# Lowercase buyer's addresses\n",
    "df['buyeraddress'] = df['buyeraddress'].apply(lambda x: x.lower())\n",
    "\n",
    "# Lowercase seller's addresses\n",
    "df['selleraddress'] = df['selleraddress'].apply(lambda x: x.lower())"
   ]
  },
  {
   "cell_type": "code",
   "execution_count": 15,
   "metadata": {},
   "outputs": [],
   "source": [
    "# Define function to match certain location based on address\n",
    "def find_location(address, locations=['metro manila', 'luzon', 'visayas', 'mindanao']):\n",
    "    for loc in locations:\n",
    "        search_pattern = r\"\\b({})\\b\".format(loc)\n",
    "        if (re.search(search_pattern, address)):\n",
    "            return loc\n",
    "    return None"
   ]
  },
  {
   "cell_type": "code",
   "execution_count": 16,
   "metadata": {},
   "outputs": [],
   "source": [
    "# Define function to map location to matrix index\n",
    "def map_location(location, locations=['metro manila', 'luzon', 'visayas', 'mindanao']):\n",
    "    switcher = {value:index for index, value in enumerate(locations)}\n",
    "    return switcher.get(location)"
   ]
  },
  {
   "cell_type": "markdown",
   "metadata": {},
   "source": [
    "## Processing And Solving"
   ]
  },
  {
   "cell_type": "markdown",
   "metadata": {},
   "source": [
    "Index for access and retrieve data in dataframe tuples from itertuples function:\n",
    "<li>0 - Index</li>\n",
    "<li>1 - orderid</li>\n",
    "<li>2 - pick</li>\n",
    "<li>3 - 1st_deliver_attempt</li>\n",
    "<li>4 - 2nd_deliver_attempt</li>\n",
    "<li>5 - buyeraddress</li>\n",
    "<li>6 - selleraddress</li>"
   ]
  },
  {
   "cell_type": "code",
   "execution_count": 17,
   "metadata": {},
   "outputs": [
    {
     "name": "stdout",
     "output_type": "stream",
     "text": [
      "Wall time: 6min 4s\n"
     ]
    }
   ],
   "source": [
    "%%time\n",
    "result_vector = []\n",
    "\n",
    "# Iterate dataframe\n",
    "for row in df.itertuples():\n",
    "    # Find location from buyer address\n",
    "    buyer_location = find_location(row[5])\n",
    "    # Map buyer location to matrix index\n",
    "    buyer_map_index = map_location(buyer_location)\n",
    "    \n",
    "    # Find location from seller address\n",
    "    seller_location = find_location(row[6])\n",
    "    # Map buyer location to matrix index\n",
    "    seller_map_index = map_location(seller_location)\n",
    "    \n",
    "    # Retrieve shipment days from map indexes (seller to buyer)\n",
    "    days_to_deliver = sla_matrix[seller_map_index][buyer_map_index]\n",
    "    \n",
    "    # Initialize the boolean late label\n",
    "    is_late = 0\n",
    "    \n",
    "    current_time = row[2] # Assign the pick-up date\n",
    "    day_count = 0 # Assign number of days to a counter\n",
    "    # Start adding time from the day after the pick-up date till the deliver date\n",
    "    while (current_time < row[3]): \n",
    "        # Check if it is not Sunday\n",
    "        if(current_time.weekday() != sunday):\n",
    "            # Check if it is not on holidays\n",
    "            if(current_time not in holidays):\n",
    "                current_time += pd.Timedelta(days=1)\n",
    "                day_count += 1\n",
    "            else:\n",
    "                current_time += pd.Timedelta(days=1)\n",
    "        else:\n",
    "            current_time += pd.Timedelta(days=1)\n",
    "    # Check if the delivery date is on time compared to the SLA matrix or not -> If late (1) || or not (0)\n",
    "    if (day_count > days_to_deliver):\n",
    "        is_late = 1\n",
    "    else:\n",
    "        is_late = 0\n",
    "\n",
    "    # Check if 2nd deliver attempt is not null and whether the first deliver attempt has been late or not\n",
    "    if (pd.notnull(row[4]) and is_late == 0):\n",
    "        current_time = row[3] # Assign the 1st deliver attempt date\n",
    "        day_count = 0\n",
    "        while (current_time < row[4]):\n",
    "            if (current_time.weekday() != sunday):\n",
    "                if (current_time not in holidays):\n",
    "                    current_time += pd.Timedelta(days=1)\n",
    "                    day_count += 1\n",
    "                else:\n",
    "                    current_time += pd.Timedelta(days=1)\n",
    "            else:\n",
    "                current_time += pd.Timedelta(days=1)\n",
    "        # If time deliver from first attempt to second attempt is longer than 3 working days -> is late (1) || or not (0)\n",
    "        if (day_count > 3):\n",
    "            is_late = 1\n",
    "        else:\n",
    "            is_late = 0\n",
    "    # Append label to vector\n",
    "    result_vector.append(is_late)\n"
   ]
  },
  {
   "cell_type": "markdown",
   "metadata": {},
   "source": [
    "<h2>Output Results</h2>"
   ]
  },
  {
   "cell_type": "code",
   "execution_count": 18,
   "metadata": {},
   "outputs": [],
   "source": [
    "# Assign result vector to the Dataframe as a Series\n",
    "df['is_late'] = result_vector"
   ]
  },
  {
   "cell_type": "code",
   "execution_count": 19,
   "metadata": {},
   "outputs": [
    {
     "data": {
      "text/html": [
       "<div>\n",
       "<style scoped>\n",
       "    .dataframe tbody tr th:only-of-type {\n",
       "        vertical-align: middle;\n",
       "    }\n",
       "\n",
       "    .dataframe tbody tr th {\n",
       "        vertical-align: top;\n",
       "    }\n",
       "\n",
       "    .dataframe thead th {\n",
       "        text-align: right;\n",
       "    }\n",
       "</style>\n",
       "<table border=\"1\" class=\"dataframe\">\n",
       "  <thead>\n",
       "    <tr style=\"text-align: right;\">\n",
       "      <th></th>\n",
       "      <th>orderid</th>\n",
       "      <th>is_late</th>\n",
       "    </tr>\n",
       "  </thead>\n",
       "  <tbody>\n",
       "    <tr>\n",
       "      <th>0</th>\n",
       "      <td>2215676524</td>\n",
       "      <td>0</td>\n",
       "    </tr>\n",
       "    <tr>\n",
       "      <th>1</th>\n",
       "      <td>2219624609</td>\n",
       "      <td>0</td>\n",
       "    </tr>\n",
       "    <tr>\n",
       "      <th>2</th>\n",
       "      <td>2220979489</td>\n",
       "      <td>0</td>\n",
       "    </tr>\n",
       "    <tr>\n",
       "      <th>3</th>\n",
       "      <td>2221066352</td>\n",
       "      <td>0</td>\n",
       "    </tr>\n",
       "    <tr>\n",
       "      <th>4</th>\n",
       "      <td>2222478803</td>\n",
       "      <td>0</td>\n",
       "    </tr>\n",
       "  </tbody>\n",
       "</table>\n",
       "</div>"
      ],
      "text/plain": [
       "      orderid  is_late\n",
       "0  2215676524        0\n",
       "1  2219624609        0\n",
       "2  2220979489        0\n",
       "3  2221066352        0\n",
       "4  2222478803        0"
      ]
     },
     "execution_count": 19,
     "metadata": {},
     "output_type": "execute_result"
    }
   ],
   "source": [
    "# Retrieve order column and label column from the original Dataframe\n",
    "result_df = df[['orderid', 'is_late']]\n",
    "result_df.head()"
   ]
  },
  {
   "cell_type": "code",
   "execution_count": 20,
   "metadata": {},
   "outputs": [],
   "source": [
    "# Output the result dataframe to a csv file\n",
    "result_df.to_csv(\"out.csv\", index=False)"
   ]
  },
  {
   "cell_type": "markdown",
   "metadata": {},
   "source": [
    "<h2>Evaluate Results</h2>"
   ]
  },
  {
   "cell_type": "code",
   "execution_count": 21,
   "metadata": {},
   "outputs": [],
   "source": [
    "correct_df = pd.read_csv(\"data/result.csv\")"
   ]
  },
  {
   "cell_type": "code",
   "execution_count": 22,
   "metadata": {},
   "outputs": [],
   "source": [
    "correct_vector = []\n",
    "for row in correct_df.itertuples():\n",
    "    correct_vector.append(row[2]) # Add to label column vector"
   ]
  },
  {
   "cell_type": "code",
   "execution_count": 23,
   "metadata": {},
   "outputs": [
    {
     "name": "stdout",
     "output_type": "stream",
     "text": [
      "Number of wrong answers: 0\n",
      "Kaggle score: 1.0\n"
     ]
    }
   ],
   "source": [
    "count = 0\n",
    "for index, value in enumerate(result_vector):\n",
    "    if(result_vector[index] != correct_vector[index]):\n",
    "        print(\"Wrong at index {} which label {} compared to the answer: {}\".format(index, result_vector[index], correct_vector[index]))\n",
    "        count += 1\n",
    "proportion = (len(result_vector) - count) / len(correct_vector)\n",
    "print(\"Number of wrong answers: {}\\nKaggle score: {}\".format(count, proportion))"
   ]
  },
  {
   "cell_type": "markdown",
   "metadata": {},
   "source": [
    "<h2>## End of Notebook ##</h2>\n",
    "<b>Member: Nguyen Pham Quoc Minh</b>\n",
    "<p><b>Team: DragonSnake</b></p>\n",
    "<b><a href='https://github.com/bietdoikiem'>Github</a></b>"
   ]
  }
 ],
 "metadata": {
  "kernelspec": {
   "display_name": "Python 3",
   "language": "python",
   "name": "python3"
  },
  "language_info": {
   "codemirror_mode": {
    "name": "ipython",
    "version": 3
   },
   "file_extension": ".py",
   "mimetype": "text/x-python",
   "name": "python",
   "nbconvert_exporter": "python",
   "pygments_lexer": "ipython3",
   "version": "3.8.5"
  }
 },
 "nbformat": 4,
 "nbformat_minor": 4
}
